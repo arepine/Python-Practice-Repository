{
 "cells": [
  {
   "cell_type": "markdown",
   "metadata": {},
   "source": [
    "___\n",
    "\n",
    "<a href='https://www.udemy.com/user/joseportilla/'><img src='../Pierian_Data_Logo.png'/></a>\n",
    "___\n",
    "<center><em>Content Copyright by Pierian Data</em></center>"
   ]
  },
  {
   "cell_type": "markdown",
   "metadata": {},
   "source": [
    "# Guessing Game Challenge\n",
    "\n",
    "Let's use `while` loops to create a guessing game.\n",
    "\n",
    "The Challenge:\n",
    "\n",
    "Write a program that picks a random integer from 1 to 100, and has players guess the number. The rules are:\n",
    "\n",
    "1. If a player's guess is less than 1 or greater than 100, say \"OUT OF BOUNDS\"\n",
    "2. On a player's first turn, if their guess is\n",
    " * within 10 of the number, return \"WARM!\"\n",
    " * further than 10 away from the number, return \"COLD!\"\n",
    "3. On all subsequent turns, if a guess is \n",
    " * closer to the number than the previous guess return \"WARMER!\"\n",
    " * farther from the number than the previous guess, return \"COLDER!\"\n",
    "4. When the player's guess equals the number, tell them they've guessed correctly *and* how many guesses it took!\n",
    "\n",
    "You can try this from scratch, or follow the steps outlined below. A separate Solution notebook has been provided. Good luck!\n"
   ]
  },
  {
   "cell_type": "markdown",
   "metadata": {},
   "source": [
    "#### First, pick a random integer from 1 to 100 using the random module and assign it to a variable\n",
    "\n",
    "Note: `random.randint(a,b)` returns a random integer in range `[a, b]`, including both end points."
   ]
  },
  {
   "cell_type": "code",
   "execution_count": 32,
   "metadata": {},
   "outputs": [],
   "source": [
    "import random\n",
    "\n",
    "num = random.randint(1, 100)"
   ]
  },
  {
   "cell_type": "markdown",
   "metadata": {},
   "source": [
    "#### Next, print an introduction to the game and explain the rules"
   ]
  },
  {
   "cell_type": "code",
   "execution_count": 33,
   "metadata": {},
   "outputs": [
    {
     "name": "stdout",
     "output_type": "stream",
     "text": [
      "This game will choose a number between 1, and 100.\n",
      "It is your job to guess the correct number.\n",
      " Hints will be provided such as Warm, and Cold depending on how close or far away you are.\n"
     ]
    }
   ],
   "source": [
    "print (\"This game will choose a number between 1, and 100.\\nIt is your job to guess the correct number.\\n Hints will be provided such as Warm, and Cold depending on how close or far away you are.\")"
   ]
  },
  {
   "cell_type": "markdown",
   "metadata": {},
   "source": [
    "#### Create a list to store guesses\n",
    "\n",
    "Hint: zero is a good placeholder value. It's useful because it evaluates to \"False\""
   ]
  },
  {
   "cell_type": "code",
   "execution_count": 34,
   "metadata": {},
   "outputs": [],
   "source": [
    "guesses = [0]"
   ]
  },
  {
   "cell_type": "markdown",
   "metadata": {},
   "source": [
    "#### Write a `while` loop that asks for a valid guess. Test it a few times to make sure it works."
   ]
  },
  {
   "cell_type": "code",
   "execution_count": 35,
   "metadata": {},
   "outputs": [],
   "source": [
    "# while True:\n",
    "#     userGuess = int(input(\"What number do you think it is? \"))\n",
    "#     if userGuess < 1 or userGuess > 100:\n",
    "#         print(\"You are wrong. Please try again: \")\n",
    "#         continue\n",
    "        \n",
    "#     break"
   ]
  },
  {
   "cell_type": "markdown",
   "metadata": {},
   "source": [
    "#### Write a `while` loop that compares the player's guess to our number. If the player guesses correctly, break from the loop. Otherwise, tell the player if they're warmer or colder, and continue asking for guesses.\n",
    "\n",
    "Some hints:\n",
    "* it may help to sketch out all possible combinations on paper first!\n",
    "* you can use the `abs()` function to find the positive difference between two numbers\n",
    "* if you append all new guesses to the list, then the previous guess is given as `guesses[-2]`"
   ]
  },
  {
   "cell_type": "code",
   "execution_count": null,
   "metadata": {},
   "outputs": [
    {
     "name": "stdout",
     "output_type": "stream",
     "text": [
      "What number do you think it is? 10\n",
      "Cold!\n",
      "What number do you think it is? 30\n",
      "Warmer.\n",
      "What number do you think it is? 40\n",
      "Warmer.\n",
      "What number do you think it is? 45\n",
      "Colder.\n",
      "What number do you think it is? 38\n",
      "Warmer.\n",
      "What number do you think it is? 37\n",
      "Colder.\n",
      "What number do you think it is? 36\n",
      "Colder.\n",
      "What number do you think it is? 39\n",
      "Warmer.\n",
      "What number do you think it is? 41\n",
      "Colder.\n",
      "What number do you think it is? 40\n",
      "Warmer.\n",
      "What number do you think it is? 43\n",
      "Colder.\n",
      "What number do you think it is? 44\n",
      "Colder.\n",
      "What number do you think it is? 42\n",
      "Warmer.\n",
      "What number do you think it is? 20\n",
      "Colder.\n",
      "What number do you think it is? 21\n",
      "Warmer.\n",
      "What number do you think it is? 22\n",
      "Warmer.\n",
      "What number do you think it is? 23\n",
      "Warmer.\n",
      "What number do you think it is? 24\n",
      "Warmer.\n",
      "What number do you think it is? 25\n",
      "Warmer.\n",
      "What number do you think it is? 26\n",
      "Warmer.\n",
      "What number do you think it is? 27\n",
      "Warmer.\n",
      "What number do you think it is? 28\n",
      "Warmer.\n",
      "What number do you think it is? 29\n",
      "Warmer.\n",
      "What number do you think it is? 30\n",
      "Warmer.\n",
      "What number do you think it is? 31\n",
      "Warmer.\n",
      "What number do you think it is? 32\n",
      "Warmer.\n",
      "What number do you think it is? 33\n",
      "Warmer.\n",
      "What number do you think it is? 34\n",
      "Warmer.\n",
      "What number do you think it is? 35\n",
      "Warmer.\n",
      "What number do you think it is? 36\n",
      "Warmer.\n",
      "What number do you think it is? 37\n",
      "Warmer.\n",
      "What number do you think it is? 37\n",
      "Colder.\n",
      "What number do you think it is? 38\n",
      "Warmer.\n",
      "What number do you think it is? 39\n",
      "Warmer.\n",
      "What number do you think it is? 40\n",
      "Colder.\n",
      "What number do you think it is? 41\n",
      "Colder.\n",
      "What number do you think it is? 42\n",
      "Colder.\n",
      "What number do you think it is? 19\n",
      "Colder.\n",
      "What number do you think it is? 18\n",
      "Colder.\n",
      "What number do you think it is? 17\n",
      "Colder.\n",
      "What number do you think it is? 16\n",
      "Colder.\n",
      "What number do you think it is? 15\n",
      "Colder.\n",
      "What number do you think it is? 14\n",
      "Congratulations, you have succeeded in 43 guesses!\n",
      "Colder.\n"
     ]
    }
   ],
   "source": [
    "while True:\n",
    "    userGuess = int(input(\"What number do you think it is? \"))\n",
    "    \n",
    "    if userGuess < 1 or userGuess > 100:\n",
    "        print(\"You are wrong. Please try again: \")\n",
    "        continue\n",
    "        \n",
    "    if userGuess == myRandomInt:\n",
    "        print(f'Congratulations, you have succeeded in {len(guesses)} guesses!')\n",
    "        \n",
    "    guesses.append(userGuess)\n",
    "    \n",
    "    if guesses[-2]:\n",
    "        if abs(num-userGuess) < abs(num-guesses[-2]):\n",
    "            print(\"Warmer.\")\n",
    "        else:\n",
    "            print(\"Colder.\")\n",
    "    else:\n",
    "        if abs(num-userGuess) <= 10:\n",
    "            print(\"Warm!\")\n",
    "        else:\n",
    "            print(\"Cold!\")"
   ]
  },
  {
   "cell_type": "markdown",
   "metadata": {},
   "source": [
    "That's it! You've just programmed your first game!\n",
    "\n",
    "In the next section we'll learn how to turn some of these repetitive actions into *functions* that can be called whenever we need them."
   ]
  },
  {
   "cell_type": "markdown",
   "metadata": {},
   "source": [
    "### Good Job!"
   ]
  }
 ],
 "metadata": {
  "kernelspec": {
   "display_name": "Python 3 (ipykernel)",
   "language": "python",
   "name": "python3"
  },
  "language_info": {
   "codemirror_mode": {
    "name": "ipython",
    "version": 3
   },
   "file_extension": ".py",
   "mimetype": "text/x-python",
   "name": "python",
   "nbconvert_exporter": "python",
   "pygments_lexer": "ipython3",
   "version": "3.9.12"
  }
 },
 "nbformat": 4,
 "nbformat_minor": 2
}
